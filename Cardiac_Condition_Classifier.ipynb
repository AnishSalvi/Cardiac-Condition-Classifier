{
  "nbformat": 4,
  "nbformat_minor": 0,
  "metadata": {
    "colab": {
      "name": "Cardiac Condition Classifier.ipynb",
      "provenance": [],
      "collapsed_sections": []
    },
    "kernelspec": {
      "name": "python3",
      "display_name": "Python 3"
    }
  },
  "cells": [
    {
      "cell_type": "code",
      "metadata": {
        "id": "2EYP7mn7dRaq"
      },
      "source": [
        "#download PTB diagnostic ECG Database\r\n",
        "#479\r\n",
        "#https://www.physionet.org/content/ptbdb/1.0.0/\r\n",
        "!wget -r -N -c -np https://physionet.org/files/ptbdb/1.0.0/"
      ],
      "execution_count": null,
      "outputs": []
    },
    {
      "cell_type": "code",
      "metadata": {
        "id": "0NuB5J4vem3A"
      },
      "source": [
        "#download the wfdb libraries and associated databases\r\n",
        "#https://www.physionet.org/content/ptbdb/1.0.0/\r\n",
        "from IPython.display import display\r\n",
        "import matplotlib.pyplot as plt\r\n",
        "%matplotlib inline\r\n",
        "import numpy as np\r\n",
        "import os\r\n",
        "import shutil\r\n",
        "import posixpath\r\n",
        "\r\n",
        "!pip install wfdb\r\n",
        "import wfdb\r\n",
        "from wfdb import processing\r\n",
        "from PIL import Image "
      ],
      "execution_count": null,
      "outputs": []
    },
    {
      "cell_type": "code",
      "metadata": {
        "id": "yxvRBsgKku0W"
      },
      "source": [
        "#create new folder with only Patient_Samples\r\n",
        "!mkdir /content/Patient_Samples\r\n",
        "!mv /content/physionet.org/files/ptbdb/1.0.0/patient* /content/Patient_Samples/"
      ],
      "execution_count": 3,
      "outputs": []
    },
    {
      "cell_type": "code",
      "metadata": {
        "id": "wfZFHeYklxa_"
      },
      "source": [
        "#get reason for admission and signal information for 1 second for the first channel and store in a numPy array\r\n",
        "patient_path = sorted(os.listdir('/content/Patient_Samples/'))\r\n",
        "\r\n",
        "#select channels, sampfrom, sampto parameters for training and testing\r\n",
        "samples = [] #determine the order\r\n",
        "classifications = [] #determine the classifiers\r\n",
        "recordings = [] #collect the recordings\r\n",
        "rec = [] #record for wfd library use\r\n",
        "signal_im = [] #store signals\r\n",
        "\r\n",
        "#obtain determine the relevant header files (hea)\r\n",
        "#do not delete the other associated files .dat, .html, .xyz, .hea\r\n",
        "for patient in patient_path:\r\n",
        "  file_path = sorted(os.listdir('/content/Patient_Samples/' + patient))\r\n",
        "  for filename in file_path:\r\n",
        "    if filename.endswith('.hea'):\r\n",
        "      #samples contains the actual file name in order\r\n",
        "      samples.append(filename) #list which stores the actual filename\r\n",
        "      #parameters can be modified\r\n",
        "      signals, fields = wfdb.rdsamp('/content/Patient_Samples/'+patient+'/'+filename[:-4], channels=[4], sampfrom=6000, sampto=10000)\r\n",
        "      #need to ensure the parameters are the same\r\n",
        "      record = wfdb.rdrecord('/content/Patient_Samples/'+patient+'/'+filename[:-4], channels=[4], sampfrom=6000, sampto=10000) \r\n",
        "      #retrieving reason for admission\r\n",
        "      diag = fields.get('comments')\r\n",
        "      admit = diag[4]\r\n",
        "      split_string = admit.split(': ', 1)\r\n",
        "      classifications.append(split_string[1]) #list which stores the classifications\r\n",
        "      recordings.append(record.p_signal[:,0]) #list of the recordings\r\n",
        "      rec.append(record) #store the whole recording for wfdb plotting use\r\n",
        "      \r\n",
        "      #image generation\r\n",
        "      plt.clf()\r\n",
        "      plt.plot(record.p_signal[:,0])\r\n",
        "      plt.axis('off')\r\n",
        "      figure = plt.gcf()\r\n",
        "      figure.set_size_inches(4, 2)\r\n",
        "      plt.savefig(\"/content/sample.png\", dpi=100, pad_inches=0, bbox_inches='tight')\r\n",
        "\r\n",
        "      #store images in a list of numpy arrays\r\n",
        "      img = Image.open('/content/sample.png') \r\n",
        "      numpydata = np.array(img)\r\n",
        "      signal_im.append(numpydata) "
      ],
      "execution_count": null,
      "outputs": []
    },
    {
      "cell_type": "code",
      "metadata": {
        "id": "oDtGOQm2Q1y6"
      },
      "source": [
        "#see classifications and signals for dataset specfied in range\r\n",
        "for n in range(400,401):\r\n",
        "  print(classifications[n])\r\n",
        "  print(samples[n])\r\n",
        "  print(recordings[n])\r\n",
        "  plt.imshow(signal_im[n])\r\n",
        "  wfdb.plot_wfdb(rec[n])"
      ],
      "execution_count": null,
      "outputs": []
    },
    {
      "cell_type": "code",
      "metadata": {
        "id": "SIEE8ceA_pSs"
      },
      "source": [
        "#split the data by myocardial infarction and healthy control\r\n",
        "myocardial_class = []\r\n",
        "myocardial_record = []\r\n",
        "myocardial_image = []\r\n",
        "\r\n",
        "healthy_class = []\r\n",
        "healthy_record = []\r\n",
        "healthy_image = []\r\n",
        "\r\n",
        "for i in range(len(classifications)):\r\n",
        "\r\n",
        "  #myocardial --> 0\r\n",
        "  if classifications[i] == 'Myocardial infarction':\r\n",
        "    myocardial_class.append(0)\r\n",
        "    myocardial_record.append(recordings[i])\r\n",
        "    myocardial_image.append(signal_im[i])\r\n",
        "\r\n",
        "  #healthy --> 1\r\n",
        "  if classifications[i] == 'Healthy control':\r\n",
        "    healthy_class.append(1)\r\n",
        "    healthy_record.append(recordings[i])\r\n",
        "    healthy_image.append(signal_im[i])\r\n",
        "\r\n",
        "class_names = ['Myocardial infarction', 'Healthy']"
      ],
      "execution_count": 6,
      "outputs": []
    },
    {
      "cell_type": "code",
      "metadata": {
        "id": "nXIRLeaOJNBQ"
      },
      "source": [
        "#convert from list to numpy array of #im, row, col\r\n",
        "#images\r\n",
        "myocardial_class = np.array(myocardial_class)\r\n",
        "myocardial_imstack = np.stack(myocardial_image, axis=0)\r\n",
        "\r\n",
        "healthy_class = np.array(healthy_class)\r\n",
        "healthy_imstack = np.stack(healthy_image, axis=0)\r\n",
        "\r\n",
        "#seperate the training and testing data for images\r\n",
        "\r\n",
        "#train\r\n",
        "train_class = np.concatenate((myocardial_class[:64], healthy_class[:64]), axis = 0)\r\n",
        "train_image = np.concatenate((myocardial_imstack[:64,:,:,:], healthy_imstack[:64,:,:,:]), axis = 0)\r\n",
        "\r\n",
        "#test\r\n",
        "test_class = np.concatenate((myocardial_class[64:80], healthy_class[64:80]), axis = 0)\r\n",
        "test_image = np.concatenate((myocardial_imstack[64:80,:,:,:], healthy_imstack[64:80,:,:,:]), axis = 0)"
      ],
      "execution_count": 7,
      "outputs": []
    },
    {
      "cell_type": "code",
      "metadata": {
        "id": "rgYwe3OIoTWy"
      },
      "source": [
        "#importing tensorflow and libraries\r\n",
        "%tensorflow_version 2.x\r\n",
        "\r\n",
        "import tensorflow as tf\r\n",
        "from tensorflow import keras\r\n",
        "from tensorflow.keras import datasets, layers, models\r\n",
        "from tensorflow.keras.models import Sequential\r\n",
        "\r\n",
        "#helper libraries\r\n",
        "import numpy as np\r\n",
        "import matplotlib.pyplot as plt"
      ],
      "execution_count": 12,
      "outputs": []
    },
    {
      "cell_type": "code",
      "metadata": {
        "id": "B-uV-Ispsf3z"
      },
      "source": [
        "#data augmentation to avoid overfitting\r\n",
        "#dropout may lead to inconsistency\r\n",
        "\r\n",
        "data_augmentation = keras.Sequential(\r\n",
        "  [\r\n",
        "    layers.experimental.preprocessing.RandomFlip(\"horizontal\", \r\n",
        "                                                 input_shape=np.shape(train_image[1]))\r\n",
        "  ]\r\n",
        ")"
      ],
      "execution_count": 29,
      "outputs": []
    },
    {
      "cell_type": "code",
      "metadata": {
        "id": "Hfftn2pnbNKq"
      },
      "source": [
        "#https://www.tensorflow.org/tutorials/images/cnn\r\n",
        "#define the neural network for image classification\r\n",
        "num_classes = 2\r\n",
        "\r\n",
        "model = Sequential([\r\n",
        "  data_augmentation,\r\n",
        "  #layers.Conv2D(32, (3, 3), activation='relu', input_shape=np.shape(train_image[1])),\r\n",
        "  layers.experimental.preprocessing.Rescaling(1./255),\r\n",
        "  layers.Conv2D(16, 3, padding='same', activation='relu'),\r\n",
        "  layers.MaxPooling2D(),\r\n",
        "  layers.Conv2D(32, 3, padding='same', activation='relu'),\r\n",
        "  layers.MaxPooling2D(),\r\n",
        "  layers.Conv2D(64, 3, padding='same', activation='relu'),\r\n",
        "  layers.MaxPooling2D(),\r\n",
        "  layers.Dropout(0.2),\r\n",
        "  layers.Flatten(),\r\n",
        "  layers.Dense(128, activation='relu'),\r\n",
        "  layers.Dense(num_classes)\r\n",
        "])"
      ],
      "execution_count": 40,
      "outputs": []
    },
    {
      "cell_type": "code",
      "metadata": {
        "id": "Jw7g3o6R6vUg"
      },
      "source": [
        "#clear the model\r\n",
        "keras.backend.clear_session()"
      ],
      "execution_count": 39,
      "outputs": []
    },
    {
      "cell_type": "code",
      "metadata": {
        "id": "GLrL-6ip3V_7",
        "colab": {
          "base_uri": "https://localhost:8080/"
        },
        "outputId": "71f76772-ca01-4d0e-da2c-90d810ff6c9f"
      },
      "source": [
        "#summary of the model architecture\r\n",
        "#https://www.tensorflow.org/tutorials/images/cnn\r\n",
        "model.summary()"
      ],
      "execution_count": 41,
      "outputs": [
        {
          "output_type": "stream",
          "text": [
            "Model: \"sequential\"\n",
            "_________________________________________________________________\n",
            "Layer (type)                 Output Shape              Param #   \n",
            "=================================================================\n",
            "sequential (Sequential)      (None, 151, 310, 4)       0         \n",
            "_________________________________________________________________\n",
            "rescaling (Rescaling)        (None, 151, 310, 4)       0         \n",
            "_________________________________________________________________\n",
            "conv2d (Conv2D)              (None, 151, 310, 16)      592       \n",
            "_________________________________________________________________\n",
            "max_pooling2d (MaxPooling2D) (None, 75, 155, 16)       0         \n",
            "_________________________________________________________________\n",
            "conv2d_1 (Conv2D)            (None, 75, 155, 32)       4640      \n",
            "_________________________________________________________________\n",
            "max_pooling2d_1 (MaxPooling2 (None, 37, 77, 32)        0         \n",
            "_________________________________________________________________\n",
            "conv2d_2 (Conv2D)            (None, 37, 77, 64)        18496     \n",
            "_________________________________________________________________\n",
            "max_pooling2d_2 (MaxPooling2 (None, 18, 38, 64)        0         \n",
            "_________________________________________________________________\n",
            "dropout (Dropout)            (None, 18, 38, 64)        0         \n",
            "_________________________________________________________________\n",
            "flatten (Flatten)            (None, 43776)             0         \n",
            "_________________________________________________________________\n",
            "dense (Dense)                (None, 128)               5603456   \n",
            "_________________________________________________________________\n",
            "dense_1 (Dense)              (None, 2)                 258       \n",
            "=================================================================\n",
            "Total params: 5,627,442\n",
            "Trainable params: 5,627,442\n",
            "Non-trainable params: 0\n",
            "_________________________________________________________________\n"
          ],
          "name": "stdout"
        }
      ]
    },
    {
      "cell_type": "code",
      "metadata": {
        "id": "bgU1hD-2pPDE"
      },
      "source": [
        "#compile the model\r\n",
        "model.compile(optimizer='adam',\r\n",
        "              loss=tf.keras.losses.SparseCategoricalCrossentropy(from_logits=True),\r\n",
        "              metrics=['accuracy'])"
      ],
      "execution_count": 42,
      "outputs": []
    },
    {
      "cell_type": "code",
      "metadata": {
        "id": "3QeYzY-I01_T",
        "colab": {
          "base_uri": "https://localhost:8080/"
        },
        "outputId": "cc3041aa-d7f2-4a5a-bf67-fb70047343ff"
      },
      "source": [
        "#image classification training, can manipulate epochs\r\n",
        "epochs = 10\r\n",
        "history = model.fit(train_image, train_class, epochs=epochs, \r\n",
        "                    validation_data=(test_image, test_class), shuffle = True)"
      ],
      "execution_count": 43,
      "outputs": [
        {
          "output_type": "stream",
          "text": [
            "Epoch 1/10\n",
            "4/4 [==============================] - 6s 2s/step - loss: 2.6325 - accuracy: 0.5031 - val_loss: 1.3506 - val_accuracy: 0.5000\n",
            "Epoch 2/10\n",
            "4/4 [==============================] - 6s 1s/step - loss: 0.8504 - accuracy: 0.6052 - val_loss: 0.6941 - val_accuracy: 0.5000\n",
            "Epoch 3/10\n",
            "4/4 [==============================] - 6s 1s/step - loss: 0.7210 - accuracy: 0.4729 - val_loss: 0.6909 - val_accuracy: 0.5000\n",
            "Epoch 4/10\n",
            "4/4 [==============================] - 6s 1s/step - loss: 0.6794 - accuracy: 0.5437 - val_loss: 0.6512 - val_accuracy: 0.6875\n",
            "Epoch 5/10\n",
            "4/4 [==============================] - 6s 1s/step - loss: 0.6517 - accuracy: 0.6417 - val_loss: 0.6284 - val_accuracy: 0.6250\n",
            "Epoch 6/10\n",
            "4/4 [==============================] - 6s 1s/step - loss: 0.6165 - accuracy: 0.6729 - val_loss: 0.5969 - val_accuracy: 0.6875\n",
            "Epoch 7/10\n",
            "4/4 [==============================] - 6s 1s/step - loss: 0.6084 - accuracy: 0.6552 - val_loss: 0.5612 - val_accuracy: 0.6875\n",
            "Epoch 8/10\n",
            "4/4 [==============================] - 6s 1s/step - loss: 0.5740 - accuracy: 0.7167 - val_loss: 0.5990 - val_accuracy: 0.6875\n",
            "Epoch 9/10\n",
            "4/4 [==============================] - 6s 1s/step - loss: 0.5343 - accuracy: 0.7281 - val_loss: 0.5731 - val_accuracy: 0.6250\n",
            "Epoch 10/10\n",
            "4/4 [==============================] - 6s 1s/step - loss: 0.4974 - accuracy: 0.7490 - val_loss: 0.5843 - val_accuracy: 0.6562\n"
          ],
          "name": "stdout"
        }
      ]
    },
    {
      "cell_type": "code",
      "metadata": {
        "colab": {
          "base_uri": "https://localhost:8080/"
        },
        "id": "_IqFGCQb1JjJ",
        "outputId": "3cedff2d-b9ae-4873-9d1a-1f6cce5bb825"
      },
      "source": [
        "#evaluating the model for image classification\r\n",
        "test_loss, test_acc = model.evaluate(test_image,  test_class, verbose=2) \r\n",
        "print('Test accuracy:', test_acc)"
      ],
      "execution_count": 44,
      "outputs": [
        {
          "output_type": "stream",
          "text": [
            "1/1 - 0s - loss: 0.5843 - accuracy: 0.6562\n",
            "Test accuracy: 0.65625\n"
          ],
          "name": "stdout"
        }
      ]
    },
    {
      "cell_type": "code",
      "metadata": {
        "colab": {
          "base_uri": "https://localhost:8080/",
          "height": 499
        },
        "id": "Vp2rP5f0EG78",
        "outputId": "f058b21e-23f8-487b-87ee-237b5514d6b9"
      },
      "source": [
        "#evaluating the model for image classification\r\n",
        "acc = history.history['accuracy']\r\n",
        "val_acc = history.history['val_accuracy']\r\n",
        "\r\n",
        "loss = history.history['loss']\r\n",
        "val_loss = history.history['val_loss']\r\n",
        "\r\n",
        "epochs_range = range(epochs)\r\n",
        "\r\n",
        "plt.figure(figsize=(8, 8))\r\n",
        "plt.subplot(1, 2, 1)\r\n",
        "plt.plot(epochs_range, acc, label='Training Accuracy')\r\n",
        "plt.plot(epochs_range, val_acc, label='Validation Accuracy')\r\n",
        "plt.legend(loc='lower right')\r\n",
        "plt.title('Training and Validation Accuracy')\r\n",
        "\r\n",
        "plt.subplot(1, 2, 2)\r\n",
        "plt.plot(epochs_range, loss, label='Training Loss')\r\n",
        "plt.plot(epochs_range, val_loss, label='Validation Loss')\r\n",
        "plt.legend(loc='upper right')\r\n",
        "plt.title('Training and Validation Loss')\r\n",
        "plt.show()"
      ],
      "execution_count": 46,
      "outputs": [
        {
          "output_type": "display_data",
          "data": {
            "image/png": "[encoded data removed]",
            "text/plain": [
              "<Figure size 576x576 with 2 Axes>"
            ]
          },
          "metadata": {
            "tags": [],
            "needs_background": "light"
          }
        }
      ]
    },
    {
      "cell_type": "code",
      "metadata": {
        "id": "QSuwi8yw1Ysf"
      },
      "source": [
        "#the prediction vs the actual for the test case for image classification\r\n",
        "for n in range(0,32):\r\n",
        "  print(n)\r\n",
        "  predictions = model.predict(test_image)\r\n",
        "  print('Neural Network Prediction: '+ class_names[np.argmax(predictions[n])])\r\n",
        "  if test_class[n] == 0:\r\n",
        "    print('Actual Condition: Myocardial infarction')\r\n",
        "  if test_class[n] == 1:\r\n",
        "    print('Actual Condition: Healthy')"
      ],
      "execution_count": null,
      "outputs": []
    },
    {
      "cell_type": "code",
      "metadata": {
        "id": "LWk-4Ch_9MO6"
      },
      "source": [
        "#10 epochs with shuffle on seems to be good got 75 and then 85 percent\r\n",
        "#15 epochs with shuffle on seems to be good got 81 percent\r\n",
        "#removing data augmentation got 78% and 71%\r\n",
        "\r\n",
        "#models being generated are inconsistent"
      ],
      "execution_count": null,
      "outputs": []
    }
  ]
}